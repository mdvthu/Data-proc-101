{
 "cells": [
  {
   "cell_type": "markdown",
   "metadata": {},
   "source": [
    "# Exercise 2: Using Python modules\n",
    "\n",
    "## Project brief:\n",
    "1. import a module from the [standard library](https://docs.python.org/3/library/index.html)\n",
    "1. Use the example code to install the `requests` module from the external repository\n",
    "1. Write your own code to install the `pandas` and `matplotlib` modules\n",
    "\n",
    "## Definitions:\n",
    "* [*module*](https://docs.python.org/3.8/tutorial/modules.html): extends the functionality of the default Python environment\n",
    "* [*standard library*](https://docs.python.org/3/library/index.html): pre-installed modules/components that provide additional functionality\n",
    "* *Python package*: code not included in the base Python installation which allows you to easily perform a specified set of tasks\n",
    "* [*Python Package Index (PyPI)*](https://pypi.org/): a free repository of software for the Python programming language\n",
    "\n",
    "## Hints\n",
    "1. Within Python, `import <module name>` is used to import a module\n",
    "1. Review the [standard library documentation](https://docs.python.org/3/library/index.html) to find a module you can import\n",
    "    * there is an example module called *`this`*\n",
    "1. `pip install <module name> --user`\n",
    "    * command-line program (*not* a Python command)\n",
    "    * fetches, downloads, and installs a new Python package from the [`Python Package Index (PyPI)`](https://pypi.org/)\n",
    "    * To run a command-line command from within Jupyter, prepend `!`\n",
    "\n",
    "## Resources\n",
    "* [About modules (Python documentation)](https://docs.python.org/3.8/tutorial/modules.html)\n",
    "* [Requests documentation](http://docs.python-requests.org/en/master/)\n",
    "* [Pandas documentation](https://pandas.pydata.org/)\n",
    "* [Matplotlib documentation](https://matplotlib.org/)"
   ]
  },
  {
   "cell_type": "code",
   "execution_count": 3,
   "metadata": {},
   "outputs": [],
   "source": [
    "# import a module from the standard library\n"
   ]
  },
  {
   "cell_type": "code",
   "execution_count": null,
   "metadata": {},
   "outputs": [],
   "source": [
    "# install the requests module\n",
    "!pip install requests --user"
   ]
  },
  {
   "cell_type": "code",
   "execution_count": 2,
   "metadata": {},
   "outputs": [],
   "source": [
    "# now write and run code to install pandas and matplotlib\n"
   ]
  }
 ],
 "metadata": {
  "kernelspec": {
   "display_name": "Python 3",
   "language": "python",
   "name": "python3"
  },
  "language_info": {
   "codemirror_mode": {
    "name": "ipython",
    "version": 3
   },
   "file_extension": ".py",
   "mimetype": "text/x-python",
   "name": "python",
   "nbconvert_exporter": "python",
   "pygments_lexer": "ipython3",
   "version": "3.6.7"
  }
 },
 "nbformat": 4,
 "nbformat_minor": 2
}
