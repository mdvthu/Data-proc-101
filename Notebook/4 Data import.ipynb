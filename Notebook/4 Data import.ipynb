{
 "cells": [
  {
   "cell_type": "markdown",
   "metadata": {},
   "source": [
    "# Exercise 4: Plot an example dataset\n",
    "\n",
    "## Project brief:\n",
    "* Use code provided to download and save a text dataset from the internet (using the `requests` module)\n",
    "* Plot the dataset using `matplotlib` (similar to `MATLAB`, but open source and free)\n",
    "\n",
    "## Resources:\n",
    "1. [Pyplot tutorial](https://matplotlib.org/users/pyplot_tutorial.html)\n",
    "1. [UCI Machine Learning Repository](http://archive.ics.uci.edu/ml/index.php)\n",
    "1. [Wikipedia page about the iris flower set](https://en.wikipedia.org/wiki/Iris_flower_data_set)"
   ]
  },
  {
   "cell_type": "code",
   "execution_count": 22,
   "metadata": {},
   "outputs": [],
   "source": [
    "# external library imports\n",
    "import numpy as np\n",
    "import pandas as pd\n",
    "# plotting library\n",
    "import matplotlib.pyplot as plt\n",
    "\n",
    "# Download the iris flower data set from the net\n",
    "df = pd.read_csv(\n",
    "    'https://archive.ics.uci.edu/ml/machine-learning-databases/iris/iris.data',\n",
    "    names=[\n",
    "        'sepal_length',\n",
    "        'sepal_width',\n",
    "        'petal_length',\n",
    "        'petal_width',\n",
    "        'class']\n",
    ")"
   ]
  },
  {
   "cell_type": "code",
   "execution_count": 35,
   "metadata": {},
   "outputs": [
    {
     "data": {
      "text/plain": [
       "0          Iris-setosa\n",
       "50     Iris-versicolor\n",
       "100     Iris-virginica\n",
       "Name: class, dtype: object"
      ]
     },
     "execution_count": 35,
     "metadata": {},
     "output_type": "execute_result"
    }
   ],
   "source": [
    "#mask = df[ df['class'] == 'Iris-setosa']\n",
    "#mask = df[ df['class'] == 'Iris-virginica']\n",
    "#mask = df[ df['class'] == 'Iris-versicolor']\n",
    "df['class'].drop_duplicates()"
   ]
  },
  {
   "cell_type": "code",
   "execution_count": 34,
   "metadata": {},
   "outputs": [
    {
     "data": {
      "text/plain": [
       "(0, 1.8551766004415011)"
      ]
     },
     "execution_count": 34,
     "metadata": {},
     "output_type": "execute_result"
    },
    {
     "data": {
      "image/png": "[encoded data removed]",
      "text/plain": [
       "<Figure size 432x288 with 1 Axes>"
      ]
     },
     "metadata": {
      "needs_background": "light"
     },
     "output_type": "display_data"
    }
   ],
   "source": [
    "plt.scatter(mask['petal_length'], mask['petal_width'])\n",
    "plt.xlim(0)\n",
    "plt.ylim(0)"
   ]
  }
 ],
 "metadata": {
  "kernelspec": {
   "display_name": "Python 3",
   "language": "python",
   "name": "python3"
  },
  "language_info": {
   "codemirror_mode": {
    "name": "ipython",
    "version": 3
   },
   "file_extension": ".py",
   "mimetype": "text/x-python",
   "name": "python",
   "nbconvert_exporter": "python",
   "pygments_lexer": "ipython3",
   "version": "3.6.7"
  }
 },
 "nbformat": 4,
 "nbformat_minor": 2
}
