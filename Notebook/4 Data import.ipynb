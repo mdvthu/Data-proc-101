{
 "cells": [
  {
   "cell_type": "markdown",
   "metadata": {},
   "source": [
    "# Exercise 4: Plot an example dataset\n",
    "\n",
    "## Project brief:\n",
    "* Use code provided to download and save a text dataset from the internet (using the `requests` module)\n",
    "* Plot the dataset using `matplotlib` (similar to `MATLAB`, but open source and free)\n",
    "\n",
    "## Definitions:\n",
    "* \n",
    "\n",
    "## Hints:\n",
    "1. \n",
    "\n",
    "## Resources:\n",
    "1. [Pyplot tutorial](https://matplotlib.org/users/pyplot_tutorial.html)\n",
    "1. [UCI Machine Learning Repository](http://archive.ics.uci.edu/ml/index.php)\n",
    "1. [Wikipedia page about the iris flower set](https://en.wikipedia.org/wiki/Iris_flower_data_set)"
   ]
  },
  {
   "cell_type": "code",
   "execution_count": 13,
   "metadata": {},
   "outputs": [],
   "source": [
    "# Download the iris flower data set from the net\n",
    "import requests\n",
    "r = requests.get('https://archive.ics.uci.edu/ml/machine-learning-databases/iris/iris.data')\n",
    "with open('iris.data', 'wt') as f:\n",
    "    f.write(r.text)"
   ]
  },
  {
   "cell_type": "code",
   "execution_count": 3,
   "metadata": {},
   "outputs": [],
   "source": [
    "# external library imports\n",
    "import numpy as np\n",
    "import pandas as pd\n",
    "# plotting library\n",
    "import matplotlib.pyplot as plt"
   ]
  },
  {
   "cell_type": "code",
   "execution_count": 4,
   "metadata": {},
   "outputs": [],
   "source": [
    "df = pd.read_csv('iris.data', names=[ 'sepal_length', 'sepal_width', 'petal_length', 'petal_width', 'class' ])"
   ]
  },
  {
   "cell_type": "code",
   "execution_count": 12,
   "metadata": {},
   "outputs": [
    {
     "ename": "SyntaxError",
     "evalue": "invalid syntax (<ipython-input-12-e3b61118db33>, line 3)",
     "output_type": "error",
     "traceback": [
      "\u001b[0;36m  File \u001b[0;32m\"<ipython-input-12-e3b61118db33>\"\u001b[0;36m, line \u001b[0;32m3\u001b[0m\n\u001b[0;31m    df[df['class'] == 'Iris-setosa'].plot.scatter('sepal_length','sepal_width',figure=f)                                             )\u001b[0m\n\u001b[0m                                                                                                                                     ^\u001b[0m\n\u001b[0;31mSyntaxError\u001b[0m\u001b[0;31m:\u001b[0m invalid syntax\n"
     ]
    }
   ],
   "source": [
    "\n",
    "f = plt.figure()\n",
    "df[df['class'] == 'Iris-setosa'].plot.scatter('sepal_length','sepal_width',figure=f)                                             )\n",
    "df[df['class'] == 'Iris-setosa'].plot.scatter('sepal_length','sepal_width')"
   ]
  }
 ],
 "metadata": {
  "kernelspec": {
   "display_name": "Python 3",
   "language": "python",
   "name": "python3"
  },
  "language_info": {
   "codemirror_mode": {
    "name": "ipython",
    "version": 3
   },
   "file_extension": ".py",
   "mimetype": "text/x-python",
   "name": "python",
   "nbconvert_exporter": "python",
   "pygments_lexer": "ipython3",
   "version": "3.6.7"
  }
 },
 "nbformat": 4,
 "nbformat_minor": 2
}
