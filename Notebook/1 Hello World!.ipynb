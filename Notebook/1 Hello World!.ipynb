{
 "cells": [
  {
   "cell_type": "markdown",
   "metadata": {},
   "source": [
    "# Exercise 1: `Hello, world!`\n",
    "\n",
    "## Project brief:\n",
    "1. Print the string *\"Hello, world!\"* to the screen\n",
    "1. Store the string in a `variable`\n",
    "1. Print the stored string\n",
    "1. Comment your code to allow other readers to understand your objectives\n",
    "\n",
    "## Definitions:\n",
    "* *String* or *string literal*: a sequence of characters\n",
    "* *Function* or *subroutine*: program instructions that perform a specific task, packaged as a unit\n",
    "* *Variable*: a named space within the computer's memory (think *a spreadsheet cell*) reserved for you to store some data in (e.g. 1, 8.9, \"Hello, world!\" etc.)\n",
    "* *Comment*: text within source code ignored by the computer but readable by humans usually used to document the code, improving readability\n",
    "\n",
    "## Hints:\n",
    "* In Python, strings can be surrounded in single (`'`) or double (`\"`) quotes\n",
    "* You should use the `print()` function\n",
    "* The `help()` function may also be useful -- try typing `help(print)`\n",
    "* Python ignores any text after the \\# character, up until the end of the line\n",
    "\n",
    "## Resources:\n",
    "* [Python reference documentation for print() function](https://docs.python.org/3/library/functions.html)\n",
    "* [History of the \"Hello, World!\" program](https://en.wikipedia.org/wiki/%22Hello,_World!%22_program)\n",
    "* [Examples in many different languages](https://github.com/Hacktoberfest-2018/Hello-world)"
   ]
  },
  {
   "cell_type": "code",
   "execution_count": null,
   "metadata": {},
   "outputs": [],
   "source": [
    "help(print)"
   ]
  },
  {
   "cell_type": "code",
   "execution_count": 2,
   "metadata": {},
   "outputs": [],
   "source": [
    "# now use the print function to print the string \"Hello, World!\"\n"
   ]
  },
  {
   "cell_type": "code",
   "execution_count": null,
   "metadata": {},
   "outputs": [],
   "source": [
    "# more examples -- have a play!\n",
    "# store a string in memory\n",
    "test_string = 'My first variable'\n",
    "a = 10\n",
    "b = 20\n",
    "\n",
    "# run the print function on test_string\n",
    "print(test_string)\n",
    "\n",
    "# mathmatical operations are also possible\n",
    "print(a + b)\n",
    "print(a * b)\n"
   ]
  }
 ],
 "metadata": {
  "kernelspec": {
   "display_name": "Python 3",
   "language": "python",
   "name": "python3"
  },
  "language_info": {
   "codemirror_mode": {
    "name": "ipython",
    "version": 3
   },
   "file_extension": ".py",
   "mimetype": "text/x-python",
   "name": "python",
   "nbconvert_exporter": "python",
   "pygments_lexer": "ipython3",
   "version": "3.6.7"
  },
  "toc": {
   "base_numbering": 1,
   "nav_menu": {},
   "number_sections": false,
   "sideBar": false,
   "skip_h1_title": false,
   "title_cell": "Table of Contents",
   "title_sidebar": "Contents",
   "toc_cell": false,
   "toc_position": {},
   "toc_section_display": false,
   "toc_window_display": false
  }
 },
 "nbformat": 4,
 "nbformat_minor": 2
}
