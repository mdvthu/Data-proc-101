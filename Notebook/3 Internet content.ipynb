{
 "cells": [
  {
   "cell_type": "markdown",
   "metadata": {},
   "source": [
    "# Exercise 3: Get content from the internet\n",
    "\n",
    "## Project brief:\n",
    "* Use the `requests` module to download a text file from the internet\n",
    "\n",
    "## Definitions:\n",
    "* `external modules`: additional freely available code for `Python`, providing extended functionality\n",
    "* `requests`: allows you to get webpages and other content into your Python program\n",
    "\n",
    "## Hints:\n",
    "1. Read the *quickstart guide* in the resources section\n",
    "1. The location of an example text file has been stored for you in the `file_location` variable\n",
    "1. Once you have a `response object`, print the content of webpage\n",
    "\n",
    "## Resources:\n",
    "* [Requests quickstart guide](http://docs.python-requests.org/en/master/user/quickstart/)"
   ]
  },
  {
   "cell_type": "code",
   "execution_count": 4,
   "metadata": {},
   "outputs": [],
   "source": [
    "# a freely available online text file\n",
    "file_location = 'https://archive.ics.uci.edu/ml/machine-learning-databases/iris/iris.names'\n",
    "\n",
    "# download the text file into your local machine's memory\n",
    "\n",
    "\n",
    "# print the content of the fetched item\n",
    "#print(remote_file.text)"
   ]
  }
 ],
 "metadata": {
  "kernelspec": {
   "display_name": "Python 3",
   "language": "python",
   "name": "python3"
  },
  "language_info": {
   "codemirror_mode": {
    "name": "ipython",
    "version": 3
   },
   "file_extension": ".py",
   "mimetype": "text/x-python",
   "name": "python",
   "nbconvert_exporter": "python",
   "pygments_lexer": "ipython3",
   "version": "3.6.7"
  }
 },
 "nbformat": 4,
 "nbformat_minor": 2
}
